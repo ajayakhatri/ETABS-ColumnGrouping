{
 "cells": [
  {
   "attachments": {},
   "cell_type": "markdown",
   "metadata": {},
   "source": [
    "This code does following:\n",
    "1. Connects to a running ETABS window\n",
    "2. Reads reinforcement data from data.xlsx.\n",
    "3. Selects columns in ground floor.\n",
    "4. Finds columns lying just above it on upper floors.\n",
    "5. Assign Groups to the columns based on percentage rebar of column in ground floor."
   ]
  },
  {
   "cell_type": "code",
   "execution_count": 1,
   "metadata": {},
   "outputs": [],
   "source": [
    "import comtypes.client\n",
    "import pandas as pd\n",
    "\n",
    "# Connects To Etabs\n",
    "ETABSObject = comtypes.client.GetActiveObject(\"CSI.ETABS.API.ETABSObject\")\n",
    "SapModel = ETABSObject.SapModel\n"
   ]
  },
  {
   "cell_type": "code",
   "execution_count": 2,
   "metadata": {},
   "outputs": [],
   "source": [
    "df_data=pd.read_excel(\"data.xlsx\")"
   ]
  },
  {
   "cell_type": "code",
   "execution_count": 3,
   "metadata": {},
   "outputs": [],
   "source": [
    "#getColumns returns list of frames with Design Orientation 1\n",
    "def getColumns(frames): \n",
    "        columns=[] \n",
    "        for frame in frames:\n",
    "                if SapModel.FrameObj.GetDesignOrientation(frame)[0]==1:\n",
    "                        columns.append(frame)     \n",
    "        return columns\n",
    "\n",
    "def startPoint(x):\n",
    "    return SapModel.FrameObj.GetPoints(x)[0]\n",
    "\n",
    "def location(x):\n",
    "    return SapModel.PointObj.GetCoordCartesian(x)"
   ]
  },
  {
   "cell_type": "code",
   "execution_count": 4,
   "metadata": {},
   "outputs": [],
   "source": [
    "allFrames =SapModel.FrameObj.GetAllFrames()[1]\n",
    "fristStoryFrames = SapModel.FrameObj.GetNameListOnStory(\"Story1\")[1]\n",
    "\n",
    "allColumns=getColumns(allFrames)\n",
    "fristStoryColumns=getColumns(fristStoryFrames)"
   ]
  },
  {
   "cell_type": "code",
   "execution_count": 5,
   "metadata": {},
   "outputs": [],
   "source": [
    "# sameLocationColumn returns a list containing list of columns lying in same (x,y) coordinate\n",
    "def sameLocationColumn(columns, groundColumns):\n",
    "    groups=[]\n",
    "    for groundColumn in groundColumns:\n",
    "        group=[groundColumn]\n",
    "        for column in columns:\n",
    "            if not column in groundColumns:\n",
    "                if location(startPoint(column))[0]==location(startPoint(groundColumn))[0] and location(startPoint(column))[1]==location(startPoint(groundColumn))[1]:\n",
    "                     group.append(column)\n",
    "        groups.append(group)\n",
    "    return groups"
   ]
  },
  {
   "cell_type": "code",
   "execution_count": 6,
   "metadata": {},
   "outputs": [],
   "source": [
    "sameLocationColumn=sameLocationColumn(allColumns,fristStoryColumns)"
   ]
  },
  {
   "cell_type": "code",
   "execution_count": 12,
   "metadata": {},
   "outputs": [],
   "source": [
    "#adds rebarPercent Column in the data table\n",
    "def rebarPercent(df_data):\n",
    "    percentRebar=[]\n",
    "    if not \"rebarPercent\" in df_data:\n",
    "        for i in df_data[\"As\"]:\n",
    "            percentRebar.append(i/(500*500)*100)     #length Of Square Beam= 500mm\n",
    "        df_data['rebarPercent']= percentRebar\n",
    "    else:\n",
    "        print(\"ERROR COLUMN ALREADY EXIST!!!\")"
   ]
  },
  {
   "cell_type": "code",
   "execution_count": 14,
   "metadata": {},
   "outputs": [
    {
     "name": "stdout",
     "output_type": "stream",
     "text": [
      "ERROR COLUMN ALREADY EXIST!!!\n"
     ]
    }
   ],
   "source": [
    "rebarPercent(df_data)"
   ]
  },
  {
   "cell_type": "code",
   "execution_count": 15,
   "metadata": {},
   "outputs": [],
   "source": [
    "# assigns column in groups based on provided ranges of percentage reinforcement\n",
    "def rebarGroup(df_data, lower, upper,sameLocationColumn, groupName):\n",
    "    group=[]\n",
    "    index=0\n",
    "    count=0\n",
    "    SapModel.GroupDef.SetGroup(groupName)\n",
    "    for a in df_data[\"UniqueName\"]:\n",
    "        i=str(a)\n",
    "        if lower < df_data[\"rebarPercent\"][index] and df_data[\"rebarPercent\"][index]<= upper:\n",
    "            for x in sameLocationColumn:\n",
    "                if i == x[0]:\n",
    "                    for j in x:\n",
    "                        SapModel.FrameObj.SetGroupAssign(str(j), groupName)\n",
    "                        SapModel.FrameObj.SetSelected(str(j),True)\n",
    "                        group.append(str(j))\n",
    "        index=index+1\n",
    "    print(\"DONE\")\n",
    "    return list(dict.fromkeys(group))"
   ]
  },
  {
   "cell_type": "code",
   "execution_count": 16,
   "metadata": {},
   "outputs": [
    {
     "name": "stdout",
     "output_type": "stream",
     "text": [
      "DONE\n"
     ]
    }
   ],
   "source": [
    "\n",
    "low=0\n",
    "high=0.824353912301962\n",
    "groupname=\"C501\"\n",
    "C501=rebarGroup(df_data,low,high,sameLocationColumn,groupname)"
   ]
  },
  {
   "cell_type": "code",
   "execution_count": 17,
   "metadata": {},
   "outputs": [
    {
     "name": "stdout",
     "output_type": "stream",
     "text": [
      "DONE\n"
     ]
    }
   ],
   "source": [
    "low=0.824353912301962\n",
    "high=1.46775208775715\n",
    "groupname=\"C502\"\n",
    "C502=rebarGroup(df_data,low,high,sameLocationColumn,groupname)\n"
   ]
  },
  {
   "cell_type": "code",
   "execution_count": 18,
   "metadata": {},
   "outputs": [
    {
     "name": "stdout",
     "output_type": "stream",
     "text": [
      "DONE\n"
     ]
    }
   ],
   "source": [
    "low=1.46775208775715\n",
    "high=1.75049542658023\n",
    "groupname=\"C503\"\n",
    "C503=rebarGroup(df_data,low,high,sameLocationColumn,groupname)\n"
   ]
  },
  {
   "cell_type": "code",
   "execution_count": 19,
   "metadata": {},
   "outputs": [
    {
     "name": "stdout",
     "output_type": "stream",
     "text": [
      "DONE\n"
     ]
    }
   ],
   "source": [
    "\n",
    "low=1.75049542658023\n",
    "high=2.01061929829747\n",
    "groupname=\"C504\"\n",
    "C504=rebarGroup(df_data,low,high,sameLocationColumn,groupname)"
   ]
  }
 ],
 "metadata": {
  "kernelspec": {
   "display_name": "Python 3",
   "language": "python",
   "name": "python3"
  },
  "language_info": {
   "codemirror_mode": {
    "name": "ipython",
    "version": 3
   },
   "file_extension": ".py",
   "mimetype": "text/x-python",
   "name": "python",
   "nbconvert_exporter": "python",
   "pygments_lexer": "ipython3",
   "version": "3.11.0"
  },
  "orig_nbformat": 4,
  "vscode": {
   "interpreter": {
    "hash": "de47f5c92c0ee6f12a59a5613ac5feff6aab19ddff207ba0b3964cced08c4ccc"
   }
  }
 },
 "nbformat": 4,
 "nbformat_minor": 2
}
